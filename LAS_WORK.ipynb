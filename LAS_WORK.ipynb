{
  "nbformat": 4,
  "nbformat_minor": 0,
  "metadata": {
    "colab": {
      "name": "LAS-WORK.ipynb",
      "provenance": [],
      "collapsed_sections": [],
      "authorship_tag": "ABX9TyPSIuj+OuCrBcGoLPnHhfaQ",
      "include_colab_link": true
    },
    "kernelspec": {
      "name": "python3",
      "display_name": "Python 3"
    }
  },
  "cells": [
    {
      "cell_type": "markdown",
      "metadata": {
        "id": "view-in-github",
        "colab_type": "text"
      },
      "source": [
        "<a href=\"https://colab.research.google.com/github/cgroba/Data-for-Colab/blob/master/LAS_WORK.ipynb\" target=\"_parent\"><img src=\"https://colab.research.google.com/assets/colab-badge.svg\" alt=\"Open In Colab\"/></a>"
      ]
    },
    {
      "cell_type": "code",
      "metadata": {
        "id": "ifj1QGMt4GEf",
        "colab_type": "code",
        "colab": {
          "base_uri": "https://localhost:8080/",
          "height": 51
        },
        "outputId": "aab26e74-a911-4f1e-e302-e735adfe8105"
      },
      "source": [
        "pip install lasio"
      ],
      "execution_count": 1,
      "outputs": [
        {
          "output_type": "stream",
          "text": [
            "Requirement already satisfied: lasio in /usr/local/lib/python3.6/dist-packages (0.25.1)\n",
            "Requirement already satisfied: numpy in /usr/local/lib/python3.6/dist-packages (from lasio) (1.18.5)\n"
          ],
          "name": "stdout"
        }
      ]
    },
    {
      "cell_type": "code",
      "metadata": {
        "id": "PjCNiubJ4LaN",
        "colab_type": "code",
        "colab": {}
      },
      "source": [
        "import lasio\n",
        "import numpy as np"
      ],
      "execution_count": 0,
      "outputs": []
    },
    {
      "cell_type": "code",
      "metadata": {
        "id": "rQUs2qQJ5Kuo",
        "colab_type": "code",
        "colab": {}
      },
      "source": [
        "las = lasio.read(\"7-ATL-4HB-RJS.las\")"
      ],
      "execution_count": 0,
      "outputs": []
    },
    {
      "cell_type": "code",
      "metadata": {
        "id": "x1s4y09p5bcp",
        "colab_type": "code",
        "colab": {
          "base_uri": "https://localhost:8080/",
          "height": 408
        },
        "outputId": "9c5ee0a2-fde0-449f-81bf-a7872b6c206f"
      },
      "source": [
        "las.header"
      ],
      "execution_count": 4,
      "outputs": [
        {
          "output_type": "execute_result",
          "data": {
            "text/plain": [
              "{'Curves': [CurveItem(mnemonic=DEPT, unit=m, value=, descr=DEPTH, original_mnemonic=DEPT, data.shape=(13167,)),\n",
              "  CurveItem(mnemonic=DEPTH_1, unit=m, value=, descr=DEPTH_1, original_mnemonic=DEPTH_1, data.shape=(13167,)),\n",
              "  CurveItem(mnemonic=PHI, unit=m3/m3, value=, descr=PHI, original_mnemonic=PHI, data.shape=(13167,)),\n",
              "  CurveItem(mnemonic=SW, unit=_, value=, descr=SW, original_mnemonic=SW, data.shape=(13167,)),\n",
              "  CurveItem(mnemonic=VCL, unit=_, value=, descr=VCL, original_mnemonic=VCL, data.shape=(13167,)),\n",
              "  CurveItem(mnemonic=TVDSS, unit=_, value=, descr=TVDSS, original_mnemonic=TVDSS, data.shape=(13167,))],\n",
              " 'Other': '',\n",
              " 'Parameter': [],\n",
              " 'Version': [HeaderItem(mnemonic=VERS, unit=, value=2.0, descr=),\n",
              "  HeaderItem(mnemonic=WRAP, unit=, value=NO, descr=)],\n",
              " 'Well': [HeaderItem(mnemonic=STRT, unit=m, value=1623.5172, descr=),\n",
              "  HeaderItem(mnemonic=STOP, unit=m, value=3630.0156, descr=),\n",
              "  HeaderItem(mnemonic=STEP, unit=m, value=0.1524, descr=),\n",
              "  HeaderItem(mnemonic=NULL, unit=, value=-999.25, descr=),\n",
              "  HeaderItem(mnemonic=COMP, unit=, value=, descr=COMPANY),\n",
              "  HeaderItem(mnemonic=WELL, unit=, value=7-ATL-4HB-RJS, descr=WELL),\n",
              "  HeaderItem(mnemonic=FLD, unit=, value=, descr=FIELD),\n",
              "  HeaderItem(mnemonic=LOC, unit=, value=, descr=LOCATION),\n",
              "  HeaderItem(mnemonic=SRVC, unit=, value=, descr=SERVICE COMPANY),\n",
              "  HeaderItem(mnemonic=DATE, unit=, value=2020-06-13 10:49:25   : Log Export Da...),\n",
              "  HeaderItem(mnemonic=PROV, unit=, value=, descr=PROVINCE),\n",
              "  HeaderItem(mnemonic=UWI, unit=, value=N/A, descr=UNIQUE WELL ID),\n",
              "  HeaderItem(mnemonic=API, unit=, value=, descr=API NUMBER)]}"
            ]
          },
          "metadata": {
            "tags": []
          },
          "execution_count": 4
        }
      ]
    },
    {
      "cell_type": "code",
      "metadata": {
        "id": "LTO2JYjP5e-T",
        "colab_type": "code",
        "colab": {
          "base_uri": "https://localhost:8080/",
          "height": 34
        },
        "outputId": "95089f66-2e46-4c6c-8bec-e171811f5cef"
      },
      "source": [
        "las"
      ],
      "execution_count": 5,
      "outputs": [
        {
          "output_type": "execute_result",
          "data": {
            "text/plain": [
              "<lasio.las.LASFile at 0x7fa51af201d0>"
            ]
          },
          "metadata": {
            "tags": []
          },
          "execution_count": 5
        }
      ]
    },
    {
      "cell_type": "code",
      "metadata": {
        "id": "Id5mP8uQ5pdl",
        "colab_type": "code",
        "colab": {
          "base_uri": "https://localhost:8080/",
          "height": 561
        },
        "outputId": "84e60aa2-a9fc-43c2-c7cf-434996a2162c"
      },
      "source": [
        "for curve in las.curves:\n",
        "         print(curve.mnemonic)\n",
        "         print(curve.unit)\n",
        "         print(curve.data)\n",
        "         print(\"\\n\")"
      ],
      "execution_count": 6,
      "outputs": [
        {
          "output_type": "stream",
          "text": [
            "DEPT\n",
            "m\n",
            "[1623.5172 1623.6696 1623.822  ... 3629.7108 3629.8632 3630.0156]\n",
            "\n",
            "\n",
            "DEPTH_1\n",
            "m\n",
            "[1623.5172119 1623.6695557 1623.8220215 ... 3629.7106934 3629.8632813\n",
            " 3630.015625 ]\n",
            "\n",
            "\n",
            "PHI\n",
            "m3/m3\n",
            "[nan nan nan ... nan nan nan]\n",
            "\n",
            "\n",
            "SW\n",
            "_\n",
            "[nan nan nan ... nan nan nan]\n",
            "\n",
            "\n",
            "VCL\n",
            "_\n",
            "[nan nan nan ... nan nan nan]\n",
            "\n",
            "\n",
            "TVDSS\n",
            "_\n",
            "[1597.5172119 1597.6695557 1597.8220215 ... 2309.1589355 2309.1643066\n",
            " 2309.1696777]\n",
            "\n",
            "\n"
          ],
          "name": "stdout"
        }
      ]
    },
    {
      "cell_type": "code",
      "metadata": {
        "id": "jwyJP7DN56v6",
        "colab_type": "code",
        "colab": {
          "base_uri": "https://localhost:8080/",
          "height": 282
        },
        "outputId": "db99c5bf-6a04-4ad0-9933-569ef22c8698"
      },
      "source": [
        "import matplotlib.pyplot as plt\n",
        "\n",
        "%matplotlib inline\n",
        "\n",
        "plt.plot(las.index, las[\"PHI\"])"
      ],
      "execution_count": 7,
      "outputs": [
        {
          "output_type": "execute_result",
          "data": {
            "text/plain": [
              "[<matplotlib.lines.Line2D at 0x7fa519382358>]"
            ]
          },
          "metadata": {
            "tags": []
          },
          "execution_count": 7
        },
        {
          "output_type": "display_data",
          "data": {
            "image/png": "[encoded data removed]",
            "text/plain": [
              "<Figure size 432x288 with 1 Axes>"
            ]
          },
          "metadata": {
            "tags": [],
            "needs_background": "light"
          }
        }
      ]
    },
    {
      "cell_type": "code",
      "metadata": {
        "id": "pXhh4kuq6YRp",
        "colab_type": "code",
        "colab": {}
      },
      "source": [
        "df = las.df()"
      ],
      "execution_count": 0,
      "outputs": []
    },
    {
      "cell_type": "code",
      "metadata": {
        "id": "-rHGlse38h-H",
        "colab_type": "code",
        "colab": {
          "base_uri": "https://localhost:8080/",
          "height": 272
        },
        "outputId": "57267c63-1d19-47d6-9a50-b816823d1113"
      },
      "source": [
        "df.head"
      ],
      "execution_count": 9,
      "outputs": [
        {
          "output_type": "execute_result",
          "data": {
            "text/plain": [
              "<bound method NDFrame.head of                DEPTH_1  PHI  SW  VCL        TVDSS\n",
              "DEPT                                             \n",
              "1623.5172  1623.517212  NaN NaN  NaN  1597.517212\n",
              "1623.6696  1623.669556  NaN NaN  NaN  1597.669556\n",
              "1623.8220  1623.822021  NaN NaN  NaN  1597.822021\n",
              "1623.9744  1623.974365  NaN NaN  NaN  1597.974365\n",
              "1624.1268  1624.126831  NaN NaN  NaN  1598.126831\n",
              "...                ...  ...  ..  ...          ...\n",
              "3629.4060  3629.406006  NaN NaN  NaN  2309.148193\n",
              "3629.5584  3629.558350  NaN NaN  NaN  2309.153564\n",
              "3629.7108  3629.710693  NaN NaN  NaN  2309.158936\n",
              "3629.8632  3629.863281  NaN NaN  NaN  2309.164307\n",
              "3630.0156  3630.015625  NaN NaN  NaN  2309.169678\n",
              "\n",
              "[13167 rows x 5 columns]>"
            ]
          },
          "metadata": {
            "tags": []
          },
          "execution_count": 9
        }
      ]
    },
    {
      "cell_type": "code",
      "metadata": {
        "id": "_DeZR7LH8lgC",
        "colab_type": "code",
        "colab": {
          "base_uri": "https://localhost:8080/",
          "height": 450
        },
        "outputId": "6cf78bfe-b7c1-4b8a-ebe6-bf383e20c520"
      },
      "source": [
        "df"
      ],
      "execution_count": 10,
      "outputs": [
        {
          "output_type": "execute_result",
          "data": {
            "text/html": [
              "<div>\n",
              "<style scoped>\n",
              "    .dataframe tbody tr th:only-of-type {\n",
              "        vertical-align: middle;\n",
              "    }\n",
              "\n",
              "    .dataframe tbody tr th {\n",
              "        vertical-align: top;\n",
              "    }\n",
              "\n",
              "    .dataframe thead th {\n",
              "        text-align: right;\n",
              "    }\n",
              "</style>\n",
              "<table border=\"1\" class=\"dataframe\">\n",
              "  <thead>\n",
              "    <tr style=\"text-align: right;\">\n",
              "      <th></th>\n",
              "      <th>DEPTH_1</th>\n",
              "      <th>PHI</th>\n",
              "      <th>SW</th>\n",
              "      <th>VCL</th>\n",
              "      <th>TVDSS</th>\n",
              "    </tr>\n",
              "    <tr>\n",
              "      <th>DEPT</th>\n",
              "      <th></th>\n",
              "      <th></th>\n",
              "      <th></th>\n",
              "      <th></th>\n",
              "      <th></th>\n",
              "    </tr>\n",
              "  </thead>\n",
              "  <tbody>\n",
              "    <tr>\n",
              "      <th>1623.5172</th>\n",
              "      <td>1623.517212</td>\n",
              "      <td>NaN</td>\n",
              "      <td>NaN</td>\n",
              "      <td>NaN</td>\n",
              "      <td>1597.517212</td>\n",
              "    </tr>\n",
              "    <tr>\n",
              "      <th>1623.6696</th>\n",
              "      <td>1623.669556</td>\n",
              "      <td>NaN</td>\n",
              "      <td>NaN</td>\n",
              "      <td>NaN</td>\n",
              "      <td>1597.669556</td>\n",
              "    </tr>\n",
              "    <tr>\n",
              "      <th>1623.8220</th>\n",
              "      <td>1623.822021</td>\n",
              "      <td>NaN</td>\n",
              "      <td>NaN</td>\n",
              "      <td>NaN</td>\n",
              "      <td>1597.822021</td>\n",
              "    </tr>\n",
              "    <tr>\n",
              "      <th>1623.9744</th>\n",
              "      <td>1623.974365</td>\n",
              "      <td>NaN</td>\n",
              "      <td>NaN</td>\n",
              "      <td>NaN</td>\n",
              "      <td>1597.974365</td>\n",
              "    </tr>\n",
              "    <tr>\n",
              "      <th>1624.1268</th>\n",
              "      <td>1624.126831</td>\n",
              "      <td>NaN</td>\n",
              "      <td>NaN</td>\n",
              "      <td>NaN</td>\n",
              "      <td>1598.126831</td>\n",
              "    </tr>\n",
              "    <tr>\n",
              "      <th>...</th>\n",
              "      <td>...</td>\n",
              "      <td>...</td>\n",
              "      <td>...</td>\n",
              "      <td>...</td>\n",
              "      <td>...</td>\n",
              "    </tr>\n",
              "    <tr>\n",
              "      <th>3629.4060</th>\n",
              "      <td>3629.406006</td>\n",
              "      <td>NaN</td>\n",
              "      <td>NaN</td>\n",
              "      <td>NaN</td>\n",
              "      <td>2309.148193</td>\n",
              "    </tr>\n",
              "    <tr>\n",
              "      <th>3629.5584</th>\n",
              "      <td>3629.558350</td>\n",
              "      <td>NaN</td>\n",
              "      <td>NaN</td>\n",
              "      <td>NaN</td>\n",
              "      <td>2309.153564</td>\n",
              "    </tr>\n",
              "    <tr>\n",
              "      <th>3629.7108</th>\n",
              "      <td>3629.710693</td>\n",
              "      <td>NaN</td>\n",
              "      <td>NaN</td>\n",
              "      <td>NaN</td>\n",
              "      <td>2309.158936</td>\n",
              "    </tr>\n",
              "    <tr>\n",
              "      <th>3629.8632</th>\n",
              "      <td>3629.863281</td>\n",
              "      <td>NaN</td>\n",
              "      <td>NaN</td>\n",
              "      <td>NaN</td>\n",
              "      <td>2309.164307</td>\n",
              "    </tr>\n",
              "    <tr>\n",
              "      <th>3630.0156</th>\n",
              "      <td>3630.015625</td>\n",
              "      <td>NaN</td>\n",
              "      <td>NaN</td>\n",
              "      <td>NaN</td>\n",
              "      <td>2309.169678</td>\n",
              "    </tr>\n",
              "  </tbody>\n",
              "</table>\n",
              "<p>13167 rows × 5 columns</p>\n",
              "</div>"
            ],
            "text/plain": [
              "               DEPTH_1  PHI  SW  VCL        TVDSS\n",
              "DEPT                                             \n",
              "1623.5172  1623.517212  NaN NaN  NaN  1597.517212\n",
              "1623.6696  1623.669556  NaN NaN  NaN  1597.669556\n",
              "1623.8220  1623.822021  NaN NaN  NaN  1597.822021\n",
              "1623.9744  1623.974365  NaN NaN  NaN  1597.974365\n",
              "1624.1268  1624.126831  NaN NaN  NaN  1598.126831\n",
              "...                ...  ...  ..  ...          ...\n",
              "3629.4060  3629.406006  NaN NaN  NaN  2309.148193\n",
              "3629.5584  3629.558350  NaN NaN  NaN  2309.153564\n",
              "3629.7108  3629.710693  NaN NaN  NaN  2309.158936\n",
              "3629.8632  3629.863281  NaN NaN  NaN  2309.164307\n",
              "3630.0156  3630.015625  NaN NaN  NaN  2309.169678\n",
              "\n",
              "[13167 rows x 5 columns]"
            ]
          },
          "metadata": {
            "tags": []
          },
          "execution_count": 10
        }
      ]
    },
    {
      "cell_type": "code",
      "metadata": {
        "id": "XT3aAmQl9eij",
        "colab_type": "code",
        "colab": {
          "base_uri": "https://localhost:8080/",
          "height": 297
        },
        "outputId": "8ca2804d-3e81-4f4c-c3aa-a1c4210eecfb"
      },
      "source": [
        "df.describe()"
      ],
      "execution_count": 11,
      "outputs": [
        {
          "output_type": "execute_result",
          "data": {
            "text/html": [
              "<div>\n",
              "<style scoped>\n",
              "    .dataframe tbody tr th:only-of-type {\n",
              "        vertical-align: middle;\n",
              "    }\n",
              "\n",
              "    .dataframe tbody tr th {\n",
              "        vertical-align: top;\n",
              "    }\n",
              "\n",
              "    .dataframe thead th {\n",
              "        text-align: right;\n",
              "    }\n",
              "</style>\n",
              "<table border=\"1\" class=\"dataframe\">\n",
              "  <thead>\n",
              "    <tr style=\"text-align: right;\">\n",
              "      <th></th>\n",
              "      <th>DEPTH_1</th>\n",
              "      <th>PHI</th>\n",
              "      <th>SW</th>\n",
              "      <th>VCL</th>\n",
              "      <th>TVDSS</th>\n",
              "    </tr>\n",
              "  </thead>\n",
              "  <tbody>\n",
              "    <tr>\n",
              "      <th>count</th>\n",
              "      <td>13167.000000</td>\n",
              "      <td>4747.000000</td>\n",
              "      <td>4747.000000</td>\n",
              "      <td>4747.000000</td>\n",
              "      <td>13167.000000</td>\n",
              "    </tr>\n",
              "    <tr>\n",
              "      <th>mean</th>\n",
              "      <td>2626.766400</td>\n",
              "      <td>0.306599</td>\n",
              "      <td>0.097393</td>\n",
              "      <td>0.114951</td>\n",
              "      <td>2149.223266</td>\n",
              "    </tr>\n",
              "    <tr>\n",
              "      <th>std</th>\n",
              "      <td>579.292186</td>\n",
              "      <td>0.041347</td>\n",
              "      <td>0.045335</td>\n",
              "      <td>0.090909</td>\n",
              "      <td>199.579202</td>\n",
              "    </tr>\n",
              "    <tr>\n",
              "      <th>min</th>\n",
              "      <td>1623.517212</td>\n",
              "      <td>0.000100</td>\n",
              "      <td>0.049700</td>\n",
              "      <td>0.000000</td>\n",
              "      <td>1597.517212</td>\n",
              "    </tr>\n",
              "    <tr>\n",
              "      <th>25%</th>\n",
              "      <td>2125.141846</td>\n",
              "      <td>0.283400</td>\n",
              "      <td>0.086400</td>\n",
              "      <td>0.034400</td>\n",
              "      <td>2053.794189</td>\n",
              "    </tr>\n",
              "    <tr>\n",
              "      <th>50%</th>\n",
              "      <td>2626.766357</td>\n",
              "      <td>0.308300</td>\n",
              "      <td>0.094000</td>\n",
              "      <td>0.111300</td>\n",
              "      <td>2261.412842</td>\n",
              "    </tr>\n",
              "    <tr>\n",
              "      <th>75%</th>\n",
              "      <td>3128.390991</td>\n",
              "      <td>0.335100</td>\n",
              "      <td>0.101300</td>\n",
              "      <td>0.174450</td>\n",
              "      <td>2291.505859</td>\n",
              "    </tr>\n",
              "    <tr>\n",
              "      <th>max</th>\n",
              "      <td>3630.015625</td>\n",
              "      <td>0.427700</td>\n",
              "      <td>1.000000</td>\n",
              "      <td>0.516900</td>\n",
              "      <td>2309.169678</td>\n",
              "    </tr>\n",
              "  </tbody>\n",
              "</table>\n",
              "</div>"
            ],
            "text/plain": [
              "            DEPTH_1          PHI           SW          VCL         TVDSS\n",
              "count  13167.000000  4747.000000  4747.000000  4747.000000  13167.000000\n",
              "mean    2626.766400     0.306599     0.097393     0.114951   2149.223266\n",
              "std      579.292186     0.041347     0.045335     0.090909    199.579202\n",
              "min     1623.517212     0.000100     0.049700     0.000000   1597.517212\n",
              "25%     2125.141846     0.283400     0.086400     0.034400   2053.794189\n",
              "50%     2626.766357     0.308300     0.094000     0.111300   2261.412842\n",
              "75%     3128.390991     0.335100     0.101300     0.174450   2291.505859\n",
              "max     3630.015625     0.427700     1.000000     0.516900   2309.169678"
            ]
          },
          "metadata": {
            "tags": []
          },
          "execution_count": 11
        }
      ]
    },
    {
      "cell_type": "code",
      "metadata": {
        "id": "qQzduslt90s0",
        "colab_type": "code",
        "colab": {}
      },
      "source": [
        "df['PHI_avg'] = df['PHI'].rolling(int(1 / las.well.STEP.value), center=True).mean()"
      ],
      "execution_count": 0,
      "outputs": []
    },
    {
      "cell_type": "code",
      "metadata": {
        "id": "RlSVJoAQCqmy",
        "colab_type": "code",
        "colab": {}
      },
      "source": [
        "las.set_data(df)"
      ],
      "execution_count": 0,
      "outputs": []
    },
    {
      "cell_type": "code",
      "metadata": {
        "id": "hy5oxqPHCsc3",
        "colab_type": "code",
        "colab": {}
      },
      "source": [
        "las.write('example-as-v1.2.las', version=1.2)"
      ],
      "execution_count": 0,
      "outputs": []
    }
  ]
}